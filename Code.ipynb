{
 "cells": [
  {
   "cell_type": "code",
   "execution_count": 2,
   "metadata": {},
   "outputs": [],
   "source": [
    "#import library \n",
    "import pandas as pd\n",
    "import numpy as np \n",
    "import matplotlib.pyplot as plt\n",
    "import seaborn as sns\n",
    "import tensorflow as tf "
   ]
  },
  {
   "cell_type": "code",
   "execution_count": 3,
   "metadata": {},
   "outputs": [],
   "source": [
    "import os"
   ]
  },
  {
   "cell_type": "code",
   "execution_count": 12,
   "metadata": {},
   "outputs": [
    {
     "data": {
      "text/plain": [
       "['Tomato___Bacterial_spot',\n",
       " 'Tomato___Early_blight',\n",
       " 'Tomato___healthy',\n",
       " 'Tomato___Late_blight',\n",
       " 'Tomato___Leaf_Mold',\n",
       " 'Tomato___Septoria_leaf_spot',\n",
       " 'Tomato___Spider_mites Two-spotted_spider_mite',\n",
       " 'Tomato___Target_Spot',\n",
       " 'Tomato___Tomato_mosaic_virus',\n",
       " 'Tomato___Tomato_Yellow_Leaf_Curl_Virus']"
      ]
     },
     "execution_count": 12,
     "metadata": {},
     "output_type": "execute_result"
    }
   ],
   "source": [
    "# import dataset\n",
    "train_set =  \"dataset/Train/\"\n",
    "val_set = \"dataset/Val/\"\n",
    "os.listdir(val_set)"
   ]
  },
  {
   "cell_type": "code",
   "execution_count": 13,
   "metadata": {},
   "outputs": [
    {
     "name": "stdout",
     "output_type": "stream",
     "text": [
      "['Tomato___Bacterial_spot', 'Tomato___Early_blight', 'Tomato___healthy', 'Tomato___Late_blight', 'Tomato___Leaf_Mold', 'Tomato___Septoria_leaf_spot', 'Tomato___Spider_mites Two-spotted_spider_mite', 'Tomato___Target_Spot', 'Tomato___Tomato_mosaic_virus', 'Tomato___Tomato_Yellow_Leaf_Curl_Virus']\n"
     ]
    }
   ],
   "source": [
    "# label inisialisation\n",
    "label = []\n",
    "for subfolder in os.listdir(train_set):\n",
    "    #for image in os.listdir(os.path.join(train_set, subfolder)):\n",
    "    label.append(subfolder)\n",
    "print(label)"
   ]
  },
  {
   "cell_type": "code",
   "execution_count": 20,
   "metadata": {},
   "outputs": [],
   "source": [
    "classes = {'Tomato___Bacterial_spot' : 0, 'Tomato___Early_blight' : 1, 'Tomato___healthy' : 2, 'Tomato___Late_blight' : 3, 'Tomato___Leaf_Mold' : 4, 'Tomato___Septoria_leaf_spot' : 5, 'Tomato___Spider_mites Two-spotted_spider_mite' : 6, 'Tomato___Target_Spot' : 7, 'Tomato___Tomato_mosaic_virus' : 8, 'Tomato___Tomato_Yellow_Leaf_Curl_Virus': 9}"
   ]
  },
  {
   "cell_type": "code",
   "execution_count": 21,
   "metadata": {},
   "outputs": [],
   "source": [
    "from tensorflow.keras.preprocessing.image import ImageDataGenerator\n",
    "\n",
    "train_gen = ImageDataGenerator(\n",
    "    rescale = 1/255,\n",
    ")\n",
    "val_gen = ImageDataGenerator(\n",
    "    rescale = 1.255\n",
    ")"
   ]
  },
  {
   "cell_type": "code",
   "execution_count": 22,
   "metadata": {},
   "outputs": [
    {
     "name": "stdout",
     "output_type": "stream",
     "text": [
      "Found 10000 images belonging to 10 classes.\n",
      "Found 984 images belonging to 10 classes.\n"
     ]
    }
   ],
   "source": [
    "from msilib.schema import Directory\n",
    "from random import shuffle\n",
    "from typing import Tuple\n",
    "\n",
    "\n",
    "train_dataset = train_gen.flow_from_directory(\n",
    "    batch_size = 32,\n",
    "    target_size = (224,224),\n",
    "    directory = train_set,\n",
    "    shuffle = True,\n",
    "    class_mode = 'categorical',\n",
    "    classes = classes\n",
    ")\n",
    "val_dataset = val_gen.flow_from_directory(\n",
    "    batch_size = 32,\n",
    "    target_size = (224,224),\n",
    "    directory = val_set,\n",
    "    shuffle = True,\n",
    "    class_mode = 'categorical',\n",
    "    classes = classes\n",
    ")"
   ]
  },
  {
   "cell_type": "code",
   "execution_count": 23,
   "metadata": {},
   "outputs": [
    {
     "name": "stdout",
     "output_type": "stream",
     "text": [
      "Model: \"sequential_2\"\n",
      "_________________________________________________________________\n",
      " Layer (type)                Output Shape              Param #   \n",
      "=================================================================\n",
      " conv2d_6 (Conv2D)           (None, 222, 222, 32)      896       \n",
      "                                                                 \n",
      " conv2d_7 (Conv2D)           (None, 220, 220, 32)      9248      \n",
      "                                                                 \n",
      " conv2d_8 (Conv2D)           (None, 218, 218, 32)      9248      \n",
      "                                                                 \n",
      " max_pooling2d_2 (MaxPooling  (None, 72, 72, 32)       0         \n",
      " 2D)                                                             \n",
      "                                                                 \n",
      " flatten_2 (Flatten)         (None, 165888)            0         \n",
      "                                                                 \n",
      " dropout_2 (Dropout)         (None, 165888)            0         \n",
      "                                                                 \n",
      " dense_4 (Dense)             (None, 128)               21233792  \n",
      "                                                                 \n",
      " dense_5 (Dense)             (None, 10)                1290      \n",
      "                                                                 \n",
      "=================================================================\n",
      "Total params: 21,254,474\n",
      "Trainable params: 21,254,474\n",
      "Non-trainable params: 0\n",
      "_________________________________________________________________\n"
     ]
    }
   ],
   "source": [
    "model = tf.keras.models.Sequential([\n",
    "    tf.keras.layers.Conv2D(32, (3 , 3), activation = 'relu', input_shape = (224, 224, 3)),\n",
    "    tf.keras.layers.Conv2D(32, (3, 3), activation = 'relu'),\n",
    "    tf.keras.layers.Conv2D(32, (3, 3), activation = 'relu'),\n",
    "    tf.keras.layers.MaxPool2D(3,3),\n",
    "    tf.keras.layers.Flatten(),\n",
    "    tf.keras.layers.Dropout(0.6),\n",
    "    tf.keras.layers.Dense(128, activation='relu'),\n",
    "    tf.keras.layers.Dense(10, activation='softmax'),\n",
    "])\n",
    "model.summary()"
   ]
  },
  {
   "cell_type": "code",
   "execution_count": 24,
   "metadata": {},
   "outputs": [],
   "source": [
    "model.compile( loss='categorical_crossentropy',\n",
    "              optimizer = 'rmsprop',\n",
    "              metrics = ['accuracy'])"
   ]
  },
  {
   "cell_type": "code",
   "execution_count": 25,
   "metadata": {},
   "outputs": [
    {
     "name": "stdout",
     "output_type": "stream",
     "text": [
      "Epoch 1/10\n",
      "313/313 [==============================] - 530s 2s/step - loss: 2.0859 - accuracy: 0.3933 - val_loss: 649.2615 - val_accuracy: 0.3730\n",
      "Epoch 2/10\n",
      "313/313 [==============================] - 528s 2s/step - loss: 0.7468 - accuracy: 0.7653 - val_loss: 444.4919 - val_accuracy: 0.4909\n",
      "Epoch 3/10\n",
      "313/313 [==============================] - 528s 2s/step - loss: 0.3821 - accuracy: 0.8784 - val_loss: 464.0930 - val_accuracy: 0.5427\n",
      "Epoch 4/10\n",
      "313/313 [==============================] - 527s 2s/step - loss: 0.2563 - accuracy: 0.9278 - val_loss: 678.9604 - val_accuracy: 0.5488\n",
      "Epoch 5/10\n",
      "313/313 [==============================] - 531s 2s/step - loss: 0.1716 - accuracy: 0.9514 - val_loss: 941.2419 - val_accuracy: 0.5478\n",
      "Epoch 6/10\n",
      "313/313 [==============================] - 533s 2s/step - loss: 0.1344 - accuracy: 0.9647 - val_loss: 965.3344 - val_accuracy: 0.4959\n",
      "Epoch 7/10\n",
      "313/313 [==============================] - 531s 2s/step - loss: 0.1123 - accuracy: 0.9708 - val_loss: 1017.1263 - val_accuracy: 0.5783\n",
      "Epoch 8/10\n",
      "313/313 [==============================] - 576s 2s/step - loss: 0.1124 - accuracy: 0.9766 - val_loss: 1035.4069 - val_accuracy: 0.5488\n",
      "Epoch 9/10\n",
      "313/313 [==============================] - 544s 2s/step - loss: 0.0843 - accuracy: 0.9827 - val_loss: 1395.1003 - val_accuracy: 0.5742\n",
      "Epoch 10/10\n",
      "313/313 [==============================] - 542s 2s/step - loss: 0.1620 - accuracy: 0.9774 - val_loss: 2439.3491 - val_accuracy: 0.4715\n"
     ]
    },
    {
     "data": {
      "text/plain": [
       "<keras.callbacks.History at 0x1c501ba45e0>"
      ]
     },
     "execution_count": 25,
     "metadata": {},
     "output_type": "execute_result"
    }
   ],
   "source": [
    "epoch = 10\n",
    "\n",
    "model.fit(train_dataset, epochs = epoch, validation_data = val_dataset)"
   ]
  },
  {
   "cell_type": "code",
   "execution_count": 26,
   "metadata": {},
   "outputs": [],
   "source": [
    "model.save('tomat.h5')"
   ]
  },
  {
   "cell_type": "code",
   "execution_count": null,
   "metadata": {},
   "outputs": [],
   "source": []
  }
 ],
 "metadata": {
  "kernelspec": {
   "display_name": "Python 3.8.0 64-bit",
   "language": "python",
   "name": "python3"
  },
  "language_info": {
   "codemirror_mode": {
    "name": "ipython",
    "version": 3
   },
   "file_extension": ".py",
   "mimetype": "text/x-python",
   "name": "python",
   "nbconvert_exporter": "python",
   "pygments_lexer": "ipython3",
   "version": "3.8.0"
  },
  "orig_nbformat": 4,
  "vscode": {
   "interpreter": {
    "hash": "2cf4eff1b553f0df9f49a39d6da12a983e95de6a06e1ff001215db174ea921b8"
   }
  }
 },
 "nbformat": 4,
 "nbformat_minor": 2
}
